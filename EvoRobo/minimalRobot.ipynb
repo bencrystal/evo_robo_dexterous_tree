{
 "cells": [
  {
   "cell_type": "code",
   "execution_count": 2,
   "metadata": {},
   "outputs": [],
   "source": [
    "class ROBOT:\n",
    "\n",
    "    def __init__(self,sim,wts):\n",
    "#sim = pyrosim.Simulator( play_paused = True, eval_time = 1000)\n",
    "        whiteobject = sim.send_cylinder( x=0 , y=0 , z=.6 ,length=1.0 , radius=0.1 )\n",
    "        redobject = sim.send_cylinder( x=0 , y=.5 , z=1.1 , r = 1, g = 0, b = 0,r1=0 , r2=1, r3=0)\n",
    "\n",
    "        joint = sim.send_hinge_joint( first_body_id = redobject , second_body_id = whiteobject ,x=0,y=0,z=1.1,n1 = 1 , n2 = 0 , n3 = 0,lo=-3.14159/2 , hi=3.14159/2)\n",
    "        T0 = sim.send_touch_sensor( body_id = whiteobject )\n",
    "        T1 = sim.send_touch_sensor( body_id = redobject )\n",
    "        P2 = sim.send_proprioceptive_sensor( joint_id = joint )\n",
    "\n",
    "        R3 = sim.send_ray_sensor( body_id = redobject , x = 0 , y = 1.1 , z = 1.1 , r1 = 0 , r2 = 1, r3 = 0)\n",
    "\n",
    "        SN0 = sim.send_sensor_neuron( sensor_id = T0 )\n",
    "        SN1 = sim.send_sensor_neuron( sensor_id = T1 )\n",
    "        SN2 = sim.send_sensor_neuron( sensor_id = P2 )\n",
    "        SN3 = sim.send_sensor_neuron( sensor_id = R3 )\n",
    "        MN2 = sim.send_motor_neuron( joint_id = joint )\n",
    "\n",
    "        sensorNeurons = {}\n",
    "        sensorNeurons[0] = SN0\n",
    "        sensorNeurons[1] = SN1\n",
    "        sensorNeurons[2] = SN2\n",
    "        sensorNeurons[3] = SN3\n",
    "        \n",
    "        motorNeurons = {}\n",
    "        motorNeurons[0] = MN2\n",
    "#         motorNeurons[1] = \n",
    "#         motorNeurons[2] = \n",
    "#         motorNeurons[3] = \n",
    "        \n",
    "        for s in sensorNeurons:\n",
    "            for m in motorNeurons:\n",
    "                sim.send_synapse( source_neuron_id = sensorNeurons[s] , target_neuron_id = motorNeurons[m] , weight = wts[s] )\n",
    "\n",
    "            #         sim.send_synapse(source_neuron_id = SN1 , target_neuron_id = MN2 , weight = wt )\n",
    "#         sim.send_synapse(source_neuron_id = SN0 , target_neuron_id = MN2 , weight = -1.0 )\n",
    "        self.P4 = sim.send_position_sensor( body_id = redobject)\n",
    "    \n",
    "    \n",
    "    \n",
    "    \n",
    "    "
   ]
  },
  {
   "cell_type": "code",
   "execution_count": null,
   "metadata": {},
   "outputs": [],
   "source": []
  }
 ],
 "metadata": {
  "kernelspec": {
   "display_name": "Python 3",
   "language": "python",
   "name": "python3"
  },
  "language_info": {
   "codemirror_mode": {
    "name": "ipython",
    "version": 3
   },
   "file_extension": ".py",
   "mimetype": "text/x-python",
   "name": "python",
   "nbconvert_exporter": "python",
   "pygments_lexer": "ipython3",
   "version": "3.6.6"
  }
 },
 "nbformat": 4,
 "nbformat_minor": 2
}
