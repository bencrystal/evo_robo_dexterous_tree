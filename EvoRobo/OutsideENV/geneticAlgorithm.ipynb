{
 "cells": [
  {
   "cell_type": "code",
   "execution_count": 8,
   "metadata": {},
   "outputs": [
    {
     "name": "stdout",
     "output_type": "stream",
     "text": [
      "3.062533\n"
     ]
    },
    {
     "ename": "NameError",
     "evalue": "name 'sim' is not defined",
     "output_type": "error",
     "traceback": [
      "\u001b[0;31m---------------------------------------------------------------------------\u001b[0m",
      "\u001b[0;31mNameError\u001b[0m                                 Traceback (most recent call last)",
      "\u001b[0;32m<ipython-input-8-95ee2f467443>\u001b[0m in \u001b[0;36m<module>\u001b[0;34m\u001b[0m\n\u001b[1;32m     99\u001b[0m \u001b[0;32mfor\u001b[0m \u001b[0mball\u001b[0m \u001b[0;32min\u001b[0m \u001b[0mrange\u001b[0m\u001b[0;34m(\u001b[0m\u001b[0;36m0\u001b[0m\u001b[0;34m,\u001b[0m\u001b[0mnumBalls\u001b[0m\u001b[0;34m)\u001b[0m\u001b[0;34m:\u001b[0m\u001b[0;34m\u001b[0m\u001b[0m\n\u001b[1;32m    100\u001b[0m \u001b[0;34m\u001b[0m\u001b[0m\n\u001b[0;32m--> 101\u001b[0;31m     \u001b[0mspike1\u001b[0m\u001b[0;34m[\u001b[0m\u001b[0mball\u001b[0m\u001b[0;34m]\u001b[0m \u001b[0;34m=\u001b[0m \u001b[0msim\u001b[0m\u001b[0;34m.\u001b[0m\u001b[0msend_sphere\u001b[0m\u001b[0;34m(\u001b[0m\u001b[0mx\u001b[0m \u001b[0;34m=\u001b[0m \u001b[0mx1\u001b[0m\u001b[0;34m[\u001b[0m\u001b[0mball\u001b[0m\u001b[0;34m]\u001b[0m\u001b[0;34m,\u001b[0m \u001b[0my\u001b[0m \u001b[0;34m=\u001b[0m \u001b[0my1\u001b[0m\u001b[0;34m[\u001b[0m\u001b[0mball\u001b[0m\u001b[0;34m]\u001b[0m\u001b[0;34m,\u001b[0m \u001b[0mz\u001b[0m \u001b[0;34m=\u001b[0m \u001b[0mz2\u001b[0m\u001b[0;34m/\u001b[0m\u001b[0;36m4\u001b[0m\u001b[0;34m,\u001b[0m \u001b[0mradius\u001b[0m \u001b[0;34m=\u001b[0m \u001b[0mconstants\u001b[0m\u001b[0;34m.\u001b[0m\u001b[0mL\u001b[0m\u001b[0;34m/\u001b[0m\u001b[0;36m4\u001b[0m\u001b[0;34m,\u001b[0m \u001b[0mr\u001b[0m \u001b[0;34m=\u001b[0m \u001b[0mcr1\u001b[0m\u001b[0;34m,\u001b[0m \u001b[0mg\u001b[0m\u001b[0;34m=\u001b[0m\u001b[0mcr2\u001b[0m\u001b[0;34m,\u001b[0m \u001b[0mb\u001b[0m\u001b[0;34m=\u001b[0m\u001b[0mcr3\u001b[0m \u001b[0;34m,\u001b[0m \u001b[0mcollision_group\u001b[0m\u001b[0;34m=\u001b[0m\u001b[0;34m'env'\u001b[0m\u001b[0;34m)\u001b[0m\u001b[0;34m\u001b[0m\u001b[0m\n\u001b[0m\u001b[1;32m    102\u001b[0m \u001b[0;34m\u001b[0m\u001b[0m\n\u001b[1;32m    103\u001b[0m     \u001b[0msim\u001b[0m\u001b[0;34m.\u001b[0m\u001b[0msend_light_source\u001b[0m\u001b[0;34m(\u001b[0m \u001b[0mbody_id\u001b[0m \u001b[0;34m=\u001b[0m \u001b[0mspike1\u001b[0m\u001b[0;34m[\u001b[0m\u001b[0mball\u001b[0m\u001b[0;34m]\u001b[0m \u001b[0;34m)\u001b[0m\u001b[0;34m\u001b[0m\u001b[0m\n",
      "\u001b[0;31mNameError\u001b[0m: name 'sim' is not defined"
     ]
    }
   ],
   "source": [
    "###########################NOTES##################################################################################\n",
    "\n",
    "#commented out in playback.py\n",
    "#54???\n",
    "##################################################################################################################\n",
    "import random\n",
    "import sys\n",
    "import copy\n",
    "import pickle\n",
    "#import constants as c\n",
    "%run robot.ipynb      # This is how you run custom files in Jupyter Notebook\n",
    "%run individual.ipynb\n",
    "%run population.ipynb \n",
    "%run constants.ipynb\n",
    "%run playback.ipynb\n",
    "%run environments.ipynb\n",
    "\n",
    "\n",
    "\n",
    "sys.path.append(\"/Documents/Documents/Senior Year/EvoRobo\")\n",
    "\n",
    "\n",
    "\n",
    "sys.path.insert(0, '../..')\n",
    "\n",
    "import pyrosim # noqa\n",
    "import matplotlib\n",
    "matplotlib.use('Agg')\n",
    "import matplotlib.pyplot as plt\n",
    "%matplotlib notebook\n",
    "\n",
    "\n",
    "\n",
    "\n",
    "\n",
    "# envs = ENVIRONMENTS()\n",
    "\n",
    "# self.z = constants.L\n",
    "z2 = constants.L\n",
    "\n",
    "        \n",
    "numBalls = 20\n",
    "    \n",
    "x1 = {}\n",
    "y1 = {}\n",
    "x2 = {}\n",
    "y2 = {}\n",
    "x3 = {}\n",
    "y3 = {}\n",
    "spike1 = {}\n",
    "spike2 = {}\n",
    "spike3 = {}\n",
    "\n",
    "cr1 = 1\n",
    "cr2 = 0\n",
    "cr3 = 0\n",
    "x1[0] = random.random()*2\n",
    "y1[0] = random.random()*2\n",
    "for i in range(1,numBalls):\n",
    "        x1[i] = random.random()*2 #-1 to 1\n",
    "        y1[i] = random.random()*2 # 0 to 2\n",
    "        for j in range(1,i):\n",
    "            for k in range(0,j-1):\n",
    "                while (math.sqrt((x1[j]-x1[k])**2 + (y1[j]-y1[k])**2) <= constants.R*7):     \n",
    "                    x1[j] = random.random()*2\n",
    "                    y1[j] = random.random()*2\n",
    "\n",
    "cg1 = 0\n",
    "cg2 = 1\n",
    "cg3 = 0\n",
    "x2[0] = random.random()*2\n",
    "y2[0] = random.random()*2\n",
    "for i in range(1,numBalls):\n",
    "        x2[i] = random.random()*2 #-1 to 1\n",
    "        y2[i] = random.random()*2 # 0 to 2\n",
    "        for j in range(1,i):\n",
    "            for k in range(0,j-1):\n",
    "                while (math.sqrt((x2[j]-x2[k])**2 + (y2[j]-y2[k])**2) <= constants.R*7):     \n",
    "                    x2[j] = random.random()*2\n",
    "                    y2[j] = random.random()*2\n",
    "\n",
    "                    \n",
    "cb1 = 0\n",
    "cb2 = 0\n",
    "cb3 = 1\n",
    "x3[0] = random.random()*2\n",
    "y3[0] = random.random()*2\n",
    "for i in range(1,numBalls):\n",
    "        x3[i] = random.random()*2 #-1 to 1\n",
    "        y3[i] = random.random()*2 # 0 to 2\n",
    "        for j in range(1,i):\n",
    "            for k in range(0,j-1):\n",
    "                while (math.sqrt((x3[j]-x3[k])**2 + (y3[j]-y3[k])**2) <= constants.R*7):     \n",
    "                    x3[j] = random.random()*2\n",
    "                    y3[j] = random.random()*2\n",
    "\n",
    "\n",
    "\n",
    "for ball in range(0,numBalls):\n",
    "\n",
    "    spike1[ball] = sim.send_sphere(x = x1[ball], y = y1[ball], z = z2/4, radius = constants.L/4, r = cr1, g=cr2, b=cr3 , collision_group='env')\n",
    "            \n",
    "    sim.send_light_source( body_id = spike1[ball] )\n",
    "            \n",
    "for ball in range(0,numBalls):\n",
    "\n",
    "    spike2[ball] = sim.send_sphere(x = x2[ball], y = y2[ball], z = z2/4, radius = constants.L/4, r = cg1, g=cg2, b=cg3 , collision_group='env')\n",
    "            \n",
    "    sim.send_light_source( body_id = spike2[ball] )\n",
    "            \n",
    "for ball in range(0,numBalls):\n",
    "\n",
    "    spike3[ball] = sim.send_sphere(x = x3[ball], y = y3[ball], z = z2/4, radius = constants.L/4, r = cb1, g=cb2, b=cb3 , collision_group='env')\n",
    "            \n",
    "    sim.send_light_source( body_id = spike3[ball] )\n",
    "\n",
    "\n",
    "\n",
    "parents = POPULATION(5)\n",
    "\n",
    "parents.Initialize()\n",
    "\n",
    "parents.Evaluate(envs,True) #play blind\n",
    "\n",
    "parents.Print()\n",
    "\n",
    "for g in range(0,10):\n",
    "    \n",
    "    children = POPULATION(5)\n",
    "    \n",
    "\n",
    "\n",
    "    children.Fill_From(parents)\n",
    "    \n",
    "    children.Evaluate(envs,True)\n",
    "    \n",
    "    \n",
    "    print(g+1)\n",
    "    children.Print()\n",
    "    \n",
    "\n",
    "\n",
    "    parents.ReplaceWith(children)\n",
    "\n",
    "\n",
    "\n",
    "# parents.p[0].Start_Evaluation(envs,False)\n",
    "\n"
   ]
  },
  {
   "cell_type": "code",
   "execution_count": 4,
   "metadata": {
    "scrolled": false
   },
   "outputs": [
    {
     "name": "stdout",
     "output_type": "stream",
     "text": [
      "\n",
      "[ID:0 Fitness: -62070.99196815491] \n",
      "[ID:0 Fitness: -79387.48921012878] \n",
      "[ID:0 Fitness: -107439.53315544128] "
     ]
    }
   ],
   "source": [
    "for i in range(0, 3):#numEnvs):\n",
    "    parents.p[0].Start_Evaluation(envs.envs[i],False)\n",
    "    parents.p[0].Compute_Fitness()\n",
    "    parents.p[0].Print()"
   ]
  },
  {
   "cell_type": "code",
   "execution_count": 30,
   "metadata": {},
   "outputs": [],
   "source": [
    "#joint with markers"
   ]
  },
  {
   "cell_type": "code",
   "execution_count": 2,
   "metadata": {},
   "outputs": [
    {
     "data": {
      "text/plain": [
       "'/Users/bencrystal/Documents/OutsideENV'"
      ]
     },
     "execution_count": 2,
     "metadata": {},
     "output_type": "execute_result"
    }
   ],
   "source": [
    "pwd"
   ]
  },
  {
   "cell_type": "code",
   "execution_count": null,
   "metadata": {},
   "outputs": [],
   "source": []
  },
  {
   "cell_type": "code",
   "execution_count": null,
   "metadata": {},
   "outputs": [],
   "source": []
  },
  {
   "cell_type": "code",
   "execution_count": null,
   "metadata": {},
   "outputs": [],
   "source": [
    "# for currentnumber \n",
    "#     for iterations\n",
    "#         if currentnumber<=iterations\n",
    "#         yadayada"
   ]
  }
 ],
 "metadata": {
  "kernelspec": {
   "display_name": "Python 3",
   "language": "python",
   "name": "python3"
  },
  "language_info": {
   "codemirror_mode": {
    "name": "ipython",
    "version": 3
   },
   "file_extension": ".py",
   "mimetype": "text/x-python",
   "name": "python",
   "nbconvert_exporter": "python",
   "pygments_lexer": "ipython3",
   "version": "3.6.6"
  }
 },
 "nbformat": 4,
 "nbformat_minor": 2
}
