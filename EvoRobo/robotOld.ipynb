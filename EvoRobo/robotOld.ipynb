{
 "cells": [
  {
   "cell_type": "code",
   "execution_count": 17,
   "metadata": {},
   "outputs": [],
   "source": [
    "%run constants.ipynb"
   ]
  },
  {
   "cell_type": "code",
   "execution_count": 17,
   "metadata": {},
   "outputs": [
    {
     "ename": "SyntaxError",
     "evalue": "invalid syntax (<ipython-input-17-9d695a1524b8>, line 11)",
     "output_type": "error",
     "traceback": [
      "\u001b[0;36m  File \u001b[0;32m\"<ipython-input-17-9d695a1524b8>\"\u001b[0;36m, line \u001b[0;32m11\u001b[0m\n\u001b[0;31m    def __init__(self,sim,wts[0]):\u001b[0m\n\u001b[0m                             ^\u001b[0m\n\u001b[0;31mSyntaxError\u001b[0m\u001b[0;31m:\u001b[0m invalid syntax\n"
     ]
    }
   ],
   "source": [
    "import import_ipynb\n",
    "import constants\n",
    "import sys\n",
    "from numpy import random\n",
    "sys.path.append(\"/Documents/Documents/Senior Year/EvoRobo\")\n",
    "\n",
    "\n",
    "\n",
    "class ROBOT:\n",
    "\n",
    "    def __init__(self,sim,wts):\n",
    "#sim = pyrosim.Simulator( play_paused = True, eval_time = 1000)\n",
    "        print()\n",
    "        self.send_objects(sim)\n",
    "        self.send_joints(sim)\n",
    "        self.send_sensors(sim)\n",
    "        self.send_neurons(sim)\n",
    "        self.send_synapses(sim, wts)\n",
    "        \n",
    "        \n",
    "\n",
    "        \n",
    "        \n",
    "        \n",
    "            #         sim.send_synapse(source_neuron_id = SN1 , target_neuron_id = MN2 , weight = wt )\n",
    "#         sim.send_synapse(source_neuron_id = SN0 , target_neuron_id = MN2 , weight = -1.0 )\n",
    "        \n",
    "    \n",
    "        del self.O\n",
    "        del self.J\n",
    "        del self.S\n",
    "        del self.SN\n",
    "        del self.MN\n",
    "    \n",
    "    def send_objects(self, sim):\n",
    "        global whiteobject, redobject\n",
    "        global O0, O1, O2, O3, O4, O5, O6, O7, O8\n",
    "#         whiteobject = sim.send_cylinder( x=0 , y=0 , z=.6 ,length=1.0 , radius=0.1 )\n",
    "#         redobject = sim.send_cylinder( x=0 , y=.5 , z=1.1 , r = 1, g = 0, b = 0,r1=0 , r2=1, r3=0)\n",
    "        O0 = sim.send_box(x=0, y=0, z=constants.L + constants.R, length=constants.L, width=constants.L, height=2*(constants.R), r=.5, g=.5, b=.5)\n",
    "        \n",
    "        O1 = sim.send_cylinder(x=0, y=constants.L, z=constants.L + constants.R, length = constants.L, radius = constants.R, r = 1, g=0, b=0, r1 = 0, r2 = 1, r3 = 0)\n",
    "        O2 = sim.send_cylinder(x=constants.L, y=0, z=constants.L + constants.R, length = constants.L, radius = constants.R, r = 0, g=1, b=0, r1 = 1, r2 = 0, r3 = 0)\n",
    "        O3 = sim.send_cylinder(x=0, y=-constants.L, z=constants.L + constants.R, length = constants.L, radius = constants.R, r = 0, g=0, b=1, r1 = 0, r2 = 1, r3 = 0)\n",
    "        O4 = sim.send_cylinder(x=-constants.L, y=0, z=constants.L + constants.R, length = constants.L, radius = constants.R, r = 1, g=0, b=1, r1 = 1, r2 = 0, r3 = 0)\n",
    "        \n",
    "        O5 = sim.send_cylinder(x=0, y=3*constants.L/2, z = constants.L/2 + constants.R, length = constants.L, radius = constants.R, r = .6, g = .2, b = .2, r1 = 0, r2 = 0, r3 = 1)\n",
    "        O6 = sim.send_cylinder(x=3*constants.L/2, y=0, z = constants.L/2 + constants.R, length = constants.L, radius = constants.R, r = .2, g = .6, b = .2, r1 = 0, r2 = 0, r3 = 1)\n",
    "        O7 = sim.send_cylinder(x=0 , y=-3*constants.L/2, z = constants.L/2 + constants.R, length = constants.L, radius = constants.R, r = .2, g = .2, b = .6, r1 = 0, r2 = 0, r3 = 1)\n",
    "        O8 = sim.send_cylinder(x=-3*constants.L/2, y=0, z = constants.L/2 + constants.R, length = constants.L, radius = constants.R, r = .4, g = .2, b = .4, r1 = 0, r2 = 0, r3 = 1)\n",
    "        \n",
    "        \n",
    "        \n",
    "        \n",
    "        \n",
    "    def send_joints(self, sim):\n",
    "        global joint, J0, J1, J2, J3, J4, J5, J6, J7\n",
    "#         joint = sim.send_hinge_joint( first_body_id = redobject , second_body_id = whiteobject ,x=0,y=0,z=1.1,n1 = 1 , n2 = 0 , n3 = 0,lo=-3.14159/2 , hi=3.14159/2)\n",
    "        J0 = sim.send_hinge_joint( first_body_id = O0 , second_body_id = O1 , x=0, y = constants.L/2,z=constants.L+constants.R, n1 = -1 , n2 = 0 , n3 = 0,lo=-3.14159/2 , hi=3.14159/2)\n",
    "        J1 = sim.send_hinge_joint( first_body_id = O1 , second_body_id = O5 , x=0, y=constants.L*3/2, z=constants.L+constants.R, n1 = -1 , n2 = 0 , n3 = 0,lo=-3.14159/2 , hi=3.14159/2)\n",
    "        #J2 is correct\n",
    "        J2 = sim.send_hinge_joint( first_body_id = O0 , second_body_id = O2 , x = constants.L/2, y=0, z=constants.L+constants.R, n1 = 0 , n2 = 1 , n3 = 0,lo=-3.14159/2 , hi=3.14159/2)\n",
    "        J3 = sim.send_hinge_joint( first_body_id = O2 , second_body_id = O6 , x = 3*constants.L/2, y=0, z=constants.L+constants.R, n1 = 0 , n2 = 1 , n3 = 0,lo=-3.14159/2 , hi=3.14159/2)\n",
    "        \n",
    "        J4 = sim.send_hinge_joint( first_body_id = O0 , second_body_id = O3 , x = 0, y=-constants.L/2, z=constants.L+constants.R, n1 = 1 , n2 = 0 , n3 = 0,lo=-3.14159/2 , hi=3.14159/2)\n",
    "        J5 = sim.send_hinge_joint( first_body_id = O3 , second_body_id = O7 , x = 0, y=-3*constants.L/2, z=constants.L+constants.R, n1 = 1 , n2 = 0 , n3 = 0,lo=-3.14159/2 , hi=3.14159/2)\n",
    "        \n",
    "        J6 = sim.send_hinge_joint( first_body_id = O0 , second_body_id = O4 , x = -constants.L/2, y=0, z=constants.L+constants.R, n1 = 0 , n2 = -1 , n3 = 0,lo=-3.14159/2 , hi=3.14159/2)\n",
    "        J7 = sim.send_hinge_joint( first_body_id = O4 , second_body_id = O8 , x = -3*constants.L/2, y=0, z=constants.L+constants.R, n1 = 0 , n2 = -1 , n3 = 0,lo=-3.14159/2 , hi=3.14159/2)\n",
    "        \n",
    "        \n",
    "        \n",
    "        \n",
    "        \n",
    "        \n",
    "        \n",
    "        \n",
    "    def send_sensors(self, sim):\n",
    "        global T0, T1, T2, T3, P2, R3, P4\n",
    "        T0 = sim.send_touch_sensor( body_id = O5 )\n",
    "        T1 = sim.send_touch_sensor( body_id = O6 )\n",
    "        T2 = sim.send_touch_sensor( body_id = O7 )\n",
    "        T3 = sim.send_touch_sensor( body_id = O8 )\n",
    "        \n",
    "#         self.P4 = sim.send_position_sensor( body_id = O0 )\n",
    "        self.L4 = sim.send_light_sensor( body_id = O0 )\n",
    "        \n",
    "        \n",
    "        \n",
    "#         T0 = sim.send_touch_sensor( body_id = whiteobject )\n",
    "#         T1 = sim.send_touch_sensor( body_id = redobject )\n",
    "#         P2 = sim.send_proprioceptive_sensor( joint_id = joint )\n",
    "\n",
    "#         R3 = sim.send_ray_sensor( body_id = redobject , x = 0 , y = 1.1 , z = 1.1 , r1 = 0 , r2 = 1, r3 = 0)\n",
    "#         self.P4 = sim.send_position_sensor( body_id = redobject)\n",
    "# #         self.P4 = sim.send_position_sensor( body_id = redobject)\n",
    "    \n",
    "        \n",
    "    def send_neurons(self, sim):\n",
    "        global SN0, SN1, SN2, SN3, MN4, MN5, MN6, MN7, MN8, MN9, MN10, MN11\n",
    "        global sensorNeurons, motorNeurons\n",
    "        \n",
    "        self.O = {}\n",
    "        self.O[0] = O0\n",
    "        self.O[1] = O1\n",
    "        self.O[2] = O2\n",
    "        self.O[3] = O3\n",
    "        self.O[4] = O4\n",
    "        self.O[5] = O5\n",
    "        self.O[6] = O6\n",
    "        self.O[7] = O7\n",
    "        self.O[8] = O8\n",
    "        \n",
    "        \n",
    "        self.J = {}\n",
    "        self.J[0] = J0\n",
    "        self.J[1] = J1\n",
    "        self.J[2] = J2\n",
    "        self.J[3] = J3\n",
    "        self.J[4] = J4\n",
    "        self.J[5] = J5\n",
    "        self.J[6] = J6\n",
    "        self.J[7] = J7\n",
    "        \n",
    "        \n",
    "        self.S = {}\n",
    "        self.S[0] = T0\n",
    "        self.S[1] = T1\n",
    "        self.S[2] = T2\n",
    "        self.S[3] = T3\n",
    "        self.S[4] = self.L4\n",
    "        \n",
    "        \n",
    "        self.SN = {}\n",
    "#         self.SN[0] = SN0\n",
    "#         self.SN[1] = SN1\n",
    "#         self.SN[2] = SN2\n",
    "#         self.SN[3] = SN3\n",
    "        \n",
    "        \n",
    "        self.MN = {}\n",
    "#         MN[0] = MN4\n",
    "#         MN[1] = MN5\n",
    "#         MN[2] = MN6\n",
    "#         MN[3] = MN7\n",
    "#         MN[4] = MN8\n",
    "#         MN[5] = MN9\n",
    "#         MN[6] = MN10\n",
    "#         MN[7] = MN11\n",
    "\n",
    "\n",
    "\n",
    "        for s in self.S:\n",
    "            self.SN[s] = sim.send_sensor_neuron(sensor_id = self.S[s])\n",
    "            \n",
    "            \n",
    "        for j in self.J:\n",
    "            self.MN[j] = sim.send_motor_neuron(joint_id = self.J[j], tau = .3)\n",
    "\n",
    "\n",
    "\n",
    "\n",
    "\n",
    "\n",
    "\n",
    "        \n",
    "#         SN0 = sim.send_sensor_neuron( sensor_id = T0 )\n",
    "#         SN1 = sim.send_sensor_neuron( sensor_id = T1 )\n",
    "#         SN2 = sim.send_sensor_neuron( sensor_id = P2 )\n",
    "#         SN3 = sim.send_sensor_neuron( sensor_id = R3 )\n",
    "#         MN2 = sim.send_motor_neuron( joint_id = joint )\n",
    "        \n",
    "        \n",
    "        \n",
    "    def send_synapses(self, sim, wts):\n",
    "        \n",
    "        for sn in self.SN:\n",
    "            \n",
    "            firstMN = min( self.MN , key = self.MN.get)\n",
    "            \n",
    "            sim.send_synapse(source_neuron_id = self.SN[sn] , target_neuron_id = self.MN[firstMN] , weight = random.random()*2-1)\n",
    "        \n",
    "        for j in self.SN:\n",
    "            for i in self.MN:\n",
    "#                 print(wts)\n",
    "#                 print(j)\n",
    "#                 print(i)\n",
    "                sim.send_synapse(source_neuron_id = self.SN[j], target_neuron_id = self.MN[i],  weight = wts[j,i])\n",
    "        \n",
    "        \n",
    "        \n",
    "#         for s in sensorNeurons:\n",
    "#             for m in motorNeurons:\n",
    "#                 sim.send_synapse( source_neuron_id = sensorNeurons[s] , target_neuron_id = motorNeurons[m] , weight = wts[s] )\n",
    "\n",
    "        \n",
    "    \n",
    "    \n",
    "    \n",
    "    \n",
    "    \n",
    "    "
   ]
  },
  {
   "cell_type": "code",
   "execution_count": 8,
   "metadata": {},
   "outputs": [
    {
     "data": {
      "text/plain": [
       "0.4"
      ]
     },
     "execution_count": 8,
     "metadata": {},
     "output_type": "execute_result"
    }
   ],
   "source": [
    "constants.L"
   ]
  },
  {
   "cell_type": "code",
   "execution_count": 45,
   "metadata": {},
   "outputs": [
    {
     "data": {
      "text/plain": [
       "0.08"
      ]
     },
     "execution_count": 45,
     "metadata": {},
     "output_type": "execute_result"
    }
   ],
   "source": [
    "constants.R"
   ]
  },
  {
   "cell_type": "code",
   "execution_count": 11,
   "metadata": {},
   "outputs": [
    {
     "data": {
      "text/plain": [
       "-0.7426478488410715"
      ]
     },
     "execution_count": 11,
     "metadata": {},
     "output_type": "execute_result"
    }
   ],
   "source": [
    "import numpy as np\n",
    "from numpy import random\n",
    "random.random()*2-1"
   ]
  },
  {
   "cell_type": "code",
   "execution_count": null,
   "metadata": {},
   "outputs": [],
   "source": []
  }
 ],
 "metadata": {
  "kernelspec": {
   "display_name": "Python 3",
   "language": "python",
   "name": "python3"
  },
  "language_info": {
   "codemirror_mode": {
    "name": "ipython",
    "version": 3
   },
   "file_extension": ".py",
   "mimetype": "text/x-python",
   "name": "python",
   "nbconvert_exporter": "python",
   "pygments_lexer": "ipython3",
   "version": "3.6.6"
  }
 },
 "nbformat": 4,
 "nbformat_minor": 2
}
