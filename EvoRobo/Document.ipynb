{
 "cells": [
  {
   "cell_type": "markdown",
   "metadata": {},
   "source": [
    "# Please note I am an undergrad!\n",
    "\n",
    "\n",
    "## Notes to self:\n",
    "#### The two convolution layers are 32 filters 12x12x3 and 64 filters 5x5x32, but how do you put in the depth?\n",
    "\n",
    "\n",
    "\n",
    "\n",
    "# Getting Python\n",
    "\n",
    "\n",
    "For this course, we are going to use Jupyter notebook as our environment for developing Python code.\n",
    "refer to https://jupyter.readthedocs.io/en/latest/content-quickstart.html on the instructions how to install it, the easiest way is to install from Anaconda (https://www.anaconda.com/download/) website, make sure you install with Python 3.6.\n",
    "\n",
    "Also, it is good for the students who are not familiar with python (or they need a quick refreshment) to follow Jim Bagrow tutorial http://bagrow.com/ds1/whirlwindtourpython/00-Title.html. \n",
    "\n",
    "All the assignments to be written in Python 3.6 and can be run using Jupyter on one of the following Internet browsers (Chrome, Safari or Firefox), these are the browsers that officially supported by jupyter.\n",
    "\n",
    "<u> Note: for this assignment, submit your local copy of this page, running on IPython. Submit the file to Blackboard under Assignment1 using this file format:</u> <b>Yourfirstname_lastname_Assignment5.ipynb</b> \n",
    "\n",
    "#### <b>Deadline</b>: <u>Sunday, Dec-02-2018 11:59 PM.</u>"
   ]
  },
  {
   "cell_type": "markdown",
   "metadata": {},
   "source": [
    "## Assignment 5 (This assignment is for Graduate students only, it is optional for undergraduates with extra credits )\n",
    "\n",
    " "
   ]
  },
  {
   "cell_type": "markdown",
   "metadata": {},
   "source": [
    "In this assignemnt you are going to train a convolutional neural network on CIFAR-10  dataset from assignment 4, refer to part1 in assignemnt 4 to use same training, validation and testing datasets splits. \n",
    "\n",
    "Start by reading the this tutorial on the tensorflow website (https://www.tensorflow.org/tutorials/keras/basic_classification). \n"
   ]
  },
  {
   "cell_type": "markdown",
   "metadata": {},
   "source": [
    "a. [70 points] Define the model as indicated in the code below. The model is defined as follows:\n",
    "\n",
    "- An input that is 32x32x3 dimensional vector.\n",
    "- Reshape the input as 32x32x3 images (it is a dataset with color images)\n",
    "- A convolutional layer with 32 filters of shape 12x12x3 and a ReLU non-linearity (with stride (2, 2) and no padding)\n",
    "- A convolutional layer with 64 filters of shape 5x5x32 and a ReLU non-linearity (with stride (1, 2) and padding to maintain size)\n",
    "- A max_pooling layer of shape 2x2\n",
    "- A fully connected layer taking all the outputs of the max_pooling layer to 1024 units and ReLU nonlinearity\n",
    "- A fully connected layer taking 1024 units to 10 no activation function (the softmax non-linearity will be included in the loss function rather than in the model) \n",
    "- Use AdamOptimizer \n",
    "- use the Accuracy as your metric... Accuray is simply defined as the fraction of data correctly classified\n",
    "- initially pick the learning rate to be 0.05 (if this learning rate does not work, pick different learning rate) with decay step of 0.95 every 2000 iterations\n",
    "\n",
    "\n",
    "write the code to train the model written, train for 15 epochs with a  batch size of 128. \n",
    "\n",
    "\n",
    "\n",
    "\n",
    "Hint: start from known architecture then modify the code to match the numbers listed above."
   ]
  },
  {
   "cell_type": "code",
   "execution_count": 2,
   "metadata": {},
   "outputs": [
    {
     "name": "stderr",
     "output_type": "stream",
     "text": [
      "Using TensorFlow backend.\n"
     ]
    }
   ],
   "source": [
    "# import libraries\n",
    "%matplotlib inline\n",
    "import numpy as np\n",
    "import pandas as pd\n",
    "import matplotlib.pyplot as plt\n",
    "from keras.datasets import cifar10\n",
    "from keras import Sequential \n",
    "from keras.layers import Dense, Dropout, Activation, Flatten, Conv3D, Conv2D, MaxPooling2D\n",
    "from keras import optimizers"
   ]
  },
  {
   "cell_type": "code",
   "execution_count": 3,
   "metadata": {},
   "outputs": [],
   "source": [
    "(xtrain2, ytrain2), (xtest2, ytest2) = cifar10.load_data()"
   ]
  },
  {
   "cell_type": "code",
   "execution_count": 4,
   "metadata": {},
   "outputs": [],
   "source": [
    "xtrain = xtrain2\n",
    "ytrain = ytrain2\n",
    "xtest = xtest2\n",
    "ytest = ytest2"
   ]
  },
  {
   "cell_type": "code",
   "execution_count": 5,
   "metadata": {},
   "outputs": [],
   "source": [
    "xval = xtrain[40000:]\n",
    "xtrain = xtrain[:40000]\n",
    "yval = ytrain[40000:]\n",
    "ytrain = ytrain[:40000]"
   ]
  },
  {
   "cell_type": "code",
   "execution_count": 6,
   "metadata": {},
   "outputs": [],
   "source": [
    "def load_cifar10(xtrain, xval, xtest, ytrain, yval, ytest):\n",
    "    ''' '''    \n",
    "    \n",
    "    global ytrain_1hot\n",
    "    global ytest_1hot\n",
    "    global yval_1hot\n",
    "    \n",
    "    xtrain = xtrain.astype('float32')\n",
    "    xval = xval.astype('float32')\n",
    "    xtest = xtest.astype('float32')\n",
    "    \n",
    "    #Normalizing\n",
    "    xtrain = xtrain/255\n",
    "    xval = xval/255\n",
    "    xtest = xtest/255\n",
    "    \n",
    "    values = ytrain\n",
    "    n_values = np.max(values) + 1\n",
    "    ytrain_1hot = np.eye(n_values)[values]\n",
    "    \n",
    "    values = yval\n",
    "    n_values = np.max(values) + 1\n",
    "    yval_1hot = np.eye(n_values)[values]\n",
    "    \n",
    "    values = ytest\n",
    "    n_values = np.max(values) + 1\n",
    "    ytest_1hot = np.eye(n_values)[values]\n",
    "    \n",
    "    \n",
    "    return xtrain, xval, xtest, ytrain_1hot, yval_1hot, ytest_1hot"
   ]
  },
  {
   "cell_type": "code",
   "execution_count": 7,
   "metadata": {},
   "outputs": [],
   "source": [
    "#load_cifar10(xtrain, xval, xtest, ytrain, yval, ytest)\n",
    "xtrain, xval, xtest, ytrain_1hot, yval_1hot, ytest_1hot = load_cifar10(xtrain, xval, xtest, ytrain, yval, ytest)\n",
    " \n"
   ]
  },
  {
   "cell_type": "code",
   "execution_count": 39,
   "metadata": {},
   "outputs": [],
   "source": [
    "ytrain_1hot = np.squeeze(ytrain_1hot)\n",
    "yval_1hot = np.squeeze(yval_1hot)\n",
    "ytest_1hot = np.squeeze(ytest_1hot)"
   ]
  },
  {
   "cell_type": "code",
   "execution_count": 40,
   "metadata": {},
   "outputs": [],
   "source": [
    "model = Sequential()"
   ]
  },
  {
   "cell_type": "code",
   "execution_count": 41,
   "metadata": {},
   "outputs": [
    {
     "data": {
      "text/plain": [
       "(40000, 32, 32, 3)"
      ]
     },
     "execution_count": 41,
     "metadata": {},
     "output_type": "execute_result"
    }
   ],
   "source": [
    "xtrain.shape"
   ]
  },
  {
   "cell_type": "code",
   "execution_count": 42,
   "metadata": {},
   "outputs": [],
   "source": [
    "model.add(Conv2D(32,(12,12),input_shape = xtrain.shape[1:],strides = (2,2),padding = 'valid'))"
   ]
  },
  {
   "cell_type": "code",
   "execution_count": 43,
   "metadata": {},
   "outputs": [],
   "source": [
    "model.add(Activation('relu'))"
   ]
  },
  {
   "cell_type": "code",
   "execution_count": 44,
   "metadata": {},
   "outputs": [],
   "source": [
    "model.add(Conv2D(64,(5,5),strides = (1,2),padding = 'same'))"
   ]
  },
  {
   "cell_type": "code",
   "execution_count": 45,
   "metadata": {},
   "outputs": [],
   "source": [
    "model.add(Activation(\"relu\"))"
   ]
  },
  {
   "cell_type": "code",
   "execution_count": 46,
   "metadata": {},
   "outputs": [],
   "source": [
    "model.add(MaxPooling2D(pool_size = (2,2)))"
   ]
  },
  {
   "cell_type": "code",
   "execution_count": 47,
   "metadata": {},
   "outputs": [],
   "source": [
    "model.add(Flatten())"
   ]
  },
  {
   "cell_type": "code",
   "execution_count": 48,
   "metadata": {},
   "outputs": [],
   "source": [
    "model.add(Dense(1024))"
   ]
  },
  {
   "cell_type": "code",
   "execution_count": 49,
   "metadata": {},
   "outputs": [],
   "source": [
    "model.add(Activation('relu'))"
   ]
  },
  {
   "cell_type": "code",
   "execution_count": 50,
   "metadata": {},
   "outputs": [],
   "source": [
    "model.add(Dense(10, activation='softmax'))"
   ]
  },
  {
   "cell_type": "code",
   "execution_count": 51,
   "metadata": {},
   "outputs": [
    {
     "name": "stdout",
     "output_type": "stream",
     "text": [
      "Train on 40000 samples, validate on 10000 samples\n",
      "Epoch 1/15\n",
      "40000/40000 [==============================] - 17s 421us/step - loss: 1.6865 - acc: 0.3887 - val_loss: 1.5174 - val_acc: 0.4628\n",
      "Epoch 2/15\n",
      "40000/40000 [==============================] - 16s 412us/step - loss: 1.3901 - acc: 0.5009 - val_loss: 1.3661 - val_acc: 0.5091\n",
      "Epoch 3/15\n",
      "40000/40000 [==============================] - 16s 412us/step - loss: 1.2614 - acc: 0.5515 - val_loss: 1.2992 - val_acc: 0.5386\n",
      "Epoch 4/15\n",
      "40000/40000 [==============================] - 17s 425us/step - loss: 1.1519 - acc: 0.5931 - val_loss: 1.2190 - val_acc: 0.5661\n",
      "Epoch 5/15\n",
      "40000/40000 [==============================] - 17s 416us/step - loss: 1.0537 - acc: 0.6290 - val_loss: 1.1803 - val_acc: 0.5862\n",
      "Epoch 6/15\n",
      "40000/40000 [==============================] - 17s 430us/step - loss: 0.9540 - acc: 0.6663 - val_loss: 1.1544 - val_acc: 0.5967\n",
      "Epoch 7/15\n",
      "40000/40000 [==============================] - 17s 430us/step - loss: 0.8579 - acc: 0.6999 - val_loss: 1.1597 - val_acc: 0.6031\n",
      "Epoch 8/15\n",
      "40000/40000 [==============================] - 17s 431us/step - loss: 0.7593 - acc: 0.7369 - val_loss: 1.1793 - val_acc: 0.6111\n",
      "Epoch 9/15\n",
      "40000/40000 [==============================] - 17s 423us/step - loss: 0.6664 - acc: 0.7692 - val_loss: 1.2052 - val_acc: 0.6138\n",
      "Epoch 10/15\n",
      "40000/40000 [==============================] - 18s 446us/step - loss: 0.5763 - acc: 0.8043 - val_loss: 1.2370 - val_acc: 0.6044\n",
      "Epoch 11/15\n",
      "40000/40000 [==============================] - 17s 416us/step - loss: 0.4831 - acc: 0.8389 - val_loss: 1.2824 - val_acc: 0.6105\n",
      "Epoch 12/15\n",
      "40000/40000 [==============================] - 16s 407us/step - loss: 0.4056 - acc: 0.8686 - val_loss: 1.3540 - val_acc: 0.6071\n",
      "Epoch 13/15\n",
      "40000/40000 [==============================] - 17s 417us/step - loss: 0.3284 - acc: 0.8971 - val_loss: 1.4245 - val_acc: 0.6052\n",
      "Epoch 14/15\n",
      "40000/40000 [==============================] - 19s 469us/step - loss: 0.2613 - acc: 0.9219 - val_loss: 1.5280 - val_acc: 0.6032\n",
      "Epoch 15/15\n",
      "40000/40000 [==============================] - 18s 453us/step - loss: 0.2029 - acc: 0.9448 - val_loss: 1.6064 - val_acc: 0.6023\n"
     ]
    },
    {
     "data": {
      "text/plain": [
       "<keras.callbacks.History at 0x1412d7b70>"
      ]
     },
     "execution_count": 51,
     "metadata": {},
     "output_type": "execute_result"
    }
   ],
   "source": [
    "#ADAM Optimizer\n",
    "#Adam = keras.optimizers.Adam(lr=0.001, beta_1=0.9, beta_2=0.999, epsilon=None, decay=0.0, amsgrad=False)\n",
    "\n",
    " \n",
    "model.compile(optimizer = optimizers.Adam(lr=.001, decay=.000475),loss = 'categorical_crossentropy', metrics = ['accuracy'])\n",
    "model.fit(xtrain, ytrain_1hot, epochs = 15, batch_size = 128, validation_data = (xval,yval_1hot))"
   ]
  },
  {
   "cell_type": "markdown",
   "metadata": {},
   "source": [
    "b. [15 points] Find better convolutional neural network architecture that give better results (at least enhancment of 5.0%) than the one built in part a (prove experimentally). "
   ]
  },
  {
   "cell_type": "markdown",
   "metadata": {},
   "source": [
    "## The 15th epoch with the given architecture had a validation accuracy of 60.23%, while the following architecture has a validation accuracy of 67.20%.\n",
    "\n",
    "#### You can increase the accuracy with a few methods, including decreasing filter size, decreasing stride size, potentially by adding padding to the convolutional layers, and potentially by adding more fully connected layers."
   ]
  },
  {
   "cell_type": "code",
   "execution_count": 52,
   "metadata": {},
   "outputs": [],
   "source": [
    "better_model = Sequential()\n",
    "\n",
    "better_model.add(Conv2D(32,(5,5),input_shape = xtrain.shape[1:],strides = (2,2),padding = 'same'))\n",
    "\n",
    "better_model.add(Activation('relu'))\n",
    "\n",
    "better_model.add(Conv2D(64,(3,3),strides = (2,2),padding = 'same'))\n",
    "\n",
    "better_model.add(Activation('relu'))\n",
    "\n",
    "better_model.add(MaxPooling2D(pool_size = (2,2)))\n",
    "\n",
    "better_model.add(Flatten())\n",
    "\n",
    "better_model.add(Dense(1024))\n",
    "\n",
    "better_model.add(Activation('relu'))\n",
    "\n",
    "better_model.add(Dense(10, activation='softmax'))\n",
    "\n"
   ]
  },
  {
   "cell_type": "code",
   "execution_count": 53,
   "metadata": {},
   "outputs": [
    {
     "name": "stdout",
     "output_type": "stream",
     "text": [
      "Train on 40000 samples, validate on 10000 samples\n",
      "Epoch 1/15\n",
      "40000/40000 [==============================] - 13s 314us/step - loss: 1.5910 - acc: 0.4302 - val_loss: 1.3851 - val_acc: 0.5071\n",
      "Epoch 2/15\n",
      "40000/40000 [==============================] - 12s 293us/step - loss: 1.2442 - acc: 0.5594 - val_loss: 1.2163 - val_acc: 0.5714\n",
      "Epoch 3/15\n",
      "40000/40000 [==============================] - 12s 306us/step - loss: 1.1096 - acc: 0.6093 - val_loss: 1.1274 - val_acc: 0.5989\n",
      "Epoch 4/15\n",
      "40000/40000 [==============================] - 11s 285us/step - loss: 1.0074 - acc: 0.6458 - val_loss: 1.0807 - val_acc: 0.6211\n",
      "Epoch 5/15\n",
      "40000/40000 [==============================] - 11s 271us/step - loss: 0.9184 - acc: 0.6793 - val_loss: 1.0448 - val_acc: 0.6339\n",
      "Epoch 6/15\n",
      "40000/40000 [==============================] - 12s 294us/step - loss: 0.8415 - acc: 0.7067 - val_loss: 1.0013 - val_acc: 0.6544\n",
      "Epoch 7/15\n",
      "40000/40000 [==============================] - 12s 307us/step - loss: 0.7697 - acc: 0.7318 - val_loss: 0.9891 - val_acc: 0.6587\n",
      "Epoch 8/15\n",
      "40000/40000 [==============================] - 12s 304us/step - loss: 0.6970 - acc: 0.7584 - val_loss: 0.9792 - val_acc: 0.6682\n",
      "Epoch 9/15\n",
      "40000/40000 [==============================] - 11s 286us/step - loss: 0.6326 - acc: 0.7812 - val_loss: 1.0114 - val_acc: 0.6611\n",
      "Epoch 10/15\n",
      "40000/40000 [==============================] - 13s 315us/step - loss: 0.5634 - acc: 0.8083 - val_loss: 1.0292 - val_acc: 0.6611\n",
      "Epoch 11/15\n",
      "40000/40000 [==============================] - 13s 317us/step - loss: 0.5014 - acc: 0.8301 - val_loss: 1.0388 - val_acc: 0.6681\n",
      "Epoch 12/15\n",
      "40000/40000 [==============================] - 12s 295us/step - loss: 0.4369 - acc: 0.8549 - val_loss: 1.0497 - val_acc: 0.6708\n",
      "Epoch 13/15\n",
      "40000/40000 [==============================] - 12s 292us/step - loss: 0.3769 - acc: 0.8800 - val_loss: 1.0759 - val_acc: 0.6706\n",
      "Epoch 14/15\n",
      "40000/40000 [==============================] - 12s 294us/step - loss: 0.3239 - acc: 0.8988 - val_loss: 1.1128 - val_acc: 0.6696\n",
      "Epoch 15/15\n",
      "40000/40000 [==============================] - 12s 295us/step - loss: 0.2741 - acc: 0.9186 - val_loss: 1.1581 - val_acc: 0.6720\n"
     ]
    },
    {
     "data": {
      "text/plain": [
       "<keras.callbacks.History at 0x1443124a8>"
      ]
     },
     "execution_count": 53,
     "metadata": {},
     "output_type": "execute_result"
    }
   ],
   "source": [
    "#ADAM Optimizer\n",
    "\n",
    "better_model.compile(optimizers.Adam(lr=.001, decay=.000475),loss = 'categorical_crossentropy', metrics = ['accuracy'])\n",
    "better_model.fit(xtrain, ytrain_1hot, epochs = 15, batch_size = 128, validation_data = (xval,yval_1hot))"
   ]
  },
  {
   "cell_type": "code",
   "execution_count": 54,
   "metadata": {},
   "outputs": [
    {
     "data": {
      "text/plain": [
       "(40000, 32, 32, 3)"
      ]
     },
     "execution_count": 54,
     "metadata": {},
     "output_type": "execute_result"
    }
   ],
   "source": [
    "xtrain.shape"
   ]
  },
  {
   "cell_type": "markdown",
   "metadata": {},
   "source": [
    "c. [15 points] Visualize all the 32 filters in the first convolution layer. Each of shape 12x12x3, they should be viewed as color  images. "
   ]
  },
  {
   "cell_type": "code",
   "execution_count": 55,
   "metadata": {},
   "outputs": [],
   "source": [
    "from keras.models import Model\n",
    "layer_outputs = [layer.output for layer in model.layers]\n",
    "activation_model = Model(inputs=model.input, outputs=layer_outputs)\n",
    "activations = activation_model.predict(xtrain[10].reshape(1,32,32,3))\n",
    " \n",
    "def display_activation(activations, col_size, row_size, act_index): \n",
    "    activation = activations[act_index]\n",
    "    activation_index=0\n",
    "    fig, ax = plt.subplots(row_size, col_size, figsize=(row_size*2.5,col_size*1.5))\n",
    "    for row in range(0,row_size):\n",
    "        for col in range(0,col_size):\n",
    "            ax[row][col].imshow(activation[0, :, :, activation_index], cmap='rainbow')\n",
    "            activation_index += 1"
   ]
  },
  {
   "cell_type": "code",
   "execution_count": 56,
   "metadata": {},
   "outputs": [
    {
     "data": {
      "image/png": "[encoded data removed]",
      "text/plain": [
       "<Figure size 720x864 with 32 Axes>"
      ]
     },
     "metadata": {
      "needs_background": "light"
     },
     "output_type": "display_data"
    }
   ],
   "source": [
    "display_activation(activations, 8, 4, 1)"
   ]
  },
  {
   "cell_type": "code",
   "execution_count": null,
   "metadata": {},
   "outputs": [],
   "source": []
  }
 ],
 "metadata": {
  "kernelspec": {
   "display_name": "Python 3",
   "language": "python",
   "name": "python3"
  },
  "language_info": {
   "codemirror_mode": {
    "name": "ipython",
    "version": 3
   },
   "file_extension": ".py",
   "mimetype": "text/x-python",
   "name": "python",
   "nbconvert_exporter": "python",
   "pygments_lexer": "ipython3",
   "version": "3.6.6"
  }
 },
 "nbformat": 4,
 "nbformat_minor": 2
}
