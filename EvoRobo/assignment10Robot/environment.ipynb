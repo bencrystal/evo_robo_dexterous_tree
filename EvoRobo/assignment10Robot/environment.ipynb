{
 "cells": [
  {
   "cell_type": "code",
   "execution_count": 5,
   "metadata": {},
   "outputs": [],
   "source": [
    "%run constants.ipynb\n",
    "numEnvs = 4\n",
    "class ENVIRONMENT:\n",
    "    def __init__(self , ID):\n",
    "        \n",
    "        \n",
    "        \n",
    "        self.l = constants.L\n",
    "        self.w = constants.L\n",
    "        self.h = constants.L\n",
    "        \n",
    "    \n",
    "        if ID == 0:\n",
    "            self.Place_Light_Source_To_The_Front()\n",
    "            \n",
    "        if ID == 1:\n",
    "            self.Place_Light_Source_To_The_Right() \n",
    "            \n",
    "        if ID == 2:\n",
    "            self.Place_Light_Source_To_The_Back()\n",
    "            \n",
    "        if ID == 3:\n",
    "            self.Place_Light_Source_To_The_Left()\n",
    "            \n",
    "            \n",
    "#         print(self.l, self.w, self.h, self.x, self.y, self.z)\n",
    "            \n",
    "    def Place_Light_Source_To_The_Front(self):\n",
    "        self.x = 0\n",
    "        self.y = 30 * .1\n",
    "        self.z = .5 * .1\n",
    "        \n",
    "    def Place_Light_Source_To_The_Right(self):\n",
    "        self.x = 30 * .1\n",
    "        self.y = 0\n",
    "        self.z = .5 * .1\n",
    "        \n",
    "    def Place_Light_Source_To_The_Back(self):\n",
    "        self.x = 0\n",
    "        self.y = -30 * .1\n",
    "        self.z = .5 * .1\n",
    "        \n",
    "    def Place_Light_Source_To_The_Left(self):\n",
    "        self.x = -30 * .1\n",
    "        self.y = 0\n",
    "        self.z = .5 * .1\n",
    "        \n",
    "    def Send_To(self, sim):\n",
    "        lightSource = sim.send_box(x=self.x, y=self.y, z=self.z, length = self.l, width = self.w, r = .8, g=.8, b=1, r1 = 0, r2 = 1, r3 = 0)\n",
    "        sim.send_light_source( body_id = lightSource )\n",
    "        \n",
    "        \n",
    "        \n",
    "        \n",
    "        "
   ]
  },
  {
   "cell_type": "code",
   "execution_count": null,
   "metadata": {},
   "outputs": [],
   "source": []
  }
 ],
 "metadata": {
  "kernelspec": {
   "display_name": "Python 3",
   "language": "python",
   "name": "python3"
  },
  "language_info": {
   "codemirror_mode": {
    "name": "ipython",
    "version": 3
   },
   "file_extension": ".py",
   "mimetype": "text/x-python",
   "name": "python",
   "nbconvert_exporter": "python",
   "pygments_lexer": "ipython3",
   "version": "3.6.6"
  }
 },
 "nbformat": 4,
 "nbformat_minor": 2
}
