{
 "cells": [
  {
   "cell_type": "code",
   "execution_count": 23,
   "metadata": {},
   "outputs": [],
   "source": [
    "import random\n",
    "import sys\n",
    "%run robot.ipynb      # This is how you run custom files in Jupyter Notebook\n",
    "\n",
    "#from robot import ROBOT\n",
    "\n",
    "\n",
    "sys.path.append(\"/Documents/Documents/Senior Year/EvoRobo\")\n",
    "\n",
    "\n",
    "#import numpy\n",
    "sys.path.insert(0, '../..')\n",
    "#from pyrosim import PYROSIM\n",
    "#%matplotlib inline\n",
    "import pyrosim # noqa\n",
    "import matplotlib\n",
    "matplotlib.use('Agg')\n",
    "import matplotlib.pyplot as plt\n",
    "%matplotlib notebook\n",
    "\n",
    "for i in range(0,10):\n",
    "    #sim = pyrosim.Simulator( play_paused = True, eval_time = 100)\n",
    "    sim = pyrosim.Simulator( play_paused = False, eval_time = 100)\n",
    "    robot = ROBOT( sim , random.random()*2 - 1 )\n",
    "\n",
    "    sim.start()\n",
    "    sim.wait_to_finish()\n",
    "\n",
    "sensorData = sim.get_sensor_data( sensor_id = P2 )\n",
    "\n",
    "\n",
    "\n",
    "# print(sensorData)\n",
    "\n",
    "# f = plt.figure()\n",
    "# panel = f.add_subplot(111)\n",
    "# plt.plot(sensorData)\n",
    "# panel.set_ylim(-.5,+2)\n",
    "\n",
    "\n",
    "\n",
    "#plt.show()\n",
    "\n",
    "#RUN NEXT CELL TO SAVE PNG\n",
    "\n",
    "\n",
    "\n"
   ]
  },
  {
   "cell_type": "code",
   "execution_count": null,
   "metadata": {},
   "outputs": [],
   "source": []
  },
  {
   "cell_type": "code",
   "execution_count": null,
   "metadata": {},
   "outputs": [],
   "source": []
  }
 ],
 "metadata": {
  "kernelspec": {
   "display_name": "Python 3",
   "language": "python",
   "name": "python3"
  },
  "language_info": {
   "codemirror_mode": {
    "name": "ipython",
    "version": 3
   },
   "file_extension": ".py",
   "mimetype": "text/x-python",
   "name": "python",
   "nbconvert_exporter": "python",
   "pygments_lexer": "ipython3",
   "version": "3.6.6"
  }
 },
 "nbformat": 4,
 "nbformat_minor": 2
}
