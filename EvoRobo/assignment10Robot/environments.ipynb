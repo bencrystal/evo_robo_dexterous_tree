{
 "cells": [
  {
   "cell_type": "code",
   "execution_count": 4,
   "metadata": {},
   "outputs": [],
   "source": [
    "%run constants.ipynb\n",
    "%run environment.ipynb\n",
    "numEnvs = 4\n",
    "class ENVIRONMENTS:\n",
    "    def __init__(self):\n",
    "        self.envs = {}\n",
    "        for e in range(0 , numEnvs):\n",
    "            self.envs[e] = ENVIRONMENT(e)"
   ]
  },
  {
   "cell_type": "code",
   "execution_count": null,
   "metadata": {},
   "outputs": [],
   "source": []
  }
 ],
 "metadata": {
  "kernelspec": {
   "display_name": "Python 3",
   "language": "python",
   "name": "python3"
  },
  "language_info": {
   "codemirror_mode": {
    "name": "ipython",
    "version": 3
   },
   "file_extension": ".py",
   "mimetype": "text/x-python",
   "name": "python",
   "nbconvert_exporter": "python",
   "pygments_lexer": "ipython3",
   "version": "3.6.6"
  }
 },
 "nbformat": 4,
 "nbformat_minor": 2
}
