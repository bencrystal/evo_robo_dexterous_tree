{
 "cells": [
  {
   "cell_type": "code",
   "execution_count": 23,
   "metadata": {},
   "outputs": [],
   "source": [
    "import pyrosim\n",
    "import random\n",
    "import math\n",
    "import numpy as np\n",
    "%run robot.ipynb\n",
    "class INDIVIDUAL:\n",
    "\n",
    "    def __init__(self, i):\n",
    "        import random\n",
    "        self.ID = i\n",
    "        self.genome = np.random.random((4,8)) * 2 - 1\n",
    "    \n",
    "#         print(type(self.genome))\n",
    "#         self.genome = np.random.random(4) * 2 - 1\n",
    "        self.fitness = 0\n",
    "        #print(self.genome)\n",
    "        \n",
    "        \n",
    "    def Start_Evaluation(self, pb):\n",
    "        self.sim = pyrosim.Simulator( play_paused = True, eval_time = 400, play_blind = pb)\n",
    "#         print(self.genome)\n",
    "        self.robot = ROBOT( self.sim , self.genome )\n",
    "        \n",
    "\n",
    "        self.sim.start()\n",
    "        \n",
    "        \n",
    "        \n",
    "    def Compute_Fitness(self):\n",
    "        self.sim.wait_to_finish()\n",
    "        \n",
    "        x = self.sim.get_sensor_data( sensor_id = self.robot.P4 , svi = 0 )\n",
    "\n",
    "        y = self.sim.get_sensor_data( sensor_id = self.robot.P4 , svi = 1 )\n",
    "\n",
    "        z = self.sim.get_sensor_data( sensor_id = self.robot.P4 , svi = 2 )\n",
    "        \n",
    "        self.fitness = y[-1]\n",
    "\n",
    "        del self.sim\n",
    "        \n",
    "    def mutate(self):\n",
    "        import random\n",
    "        import math\n",
    "        \n",
    "        geneToMutate = random.randint(0,3)\n",
    "        geneToMutate2 = random.randint(0,7)\n",
    "\n",
    "        \n",
    "#         print(geneToMutate)  #Prints the random selected gene number\n",
    "        self.genome[geneToMutate][geneToMutate2] = random.gauss( self.genome[geneToMutate][geneToMutate2] , math.fabs(self.genome[geneToMutate][geneToMutate2]) )\n",
    "#         print(self.genome)\n",
    "#         print(geneToMutate)\n",
    "#         print(geneToMutate2)\n",
    "        \n",
    "        \n",
    "        \n",
    "    def Print(self):\n",
    "        print('[ID:', end = '')\n",
    "        print(self.ID, end = ' Fitness: ')\n",
    "        print(self.fitness, end = '')\n",
    "        print('] ', end = '')\n",
    "        \n",
    "        \n",
    "        \n",
    "        \n",
    "        "
   ]
  },
  {
   "cell_type": "code",
   "execution_count": 7,
   "metadata": {},
   "outputs": [
    {
     "data": {
      "text/plain": [
       "-0.2628153104150135"
      ]
     },
     "execution_count": 7,
     "metadata": {},
     "output_type": "execute_result"
    }
   ],
   "source": [
    " (np.random.random((4,8)) * 2 - 1)[0][0]"
   ]
  },
  {
   "cell_type": "code",
   "execution_count": 11,
   "metadata": {},
   "outputs": [
    {
     "data": {
      "text/plain": [
       "0.08786325609338008"
      ]
     },
     "execution_count": 11,
     "metadata": {},
     "output_type": "execute_result"
    }
   ],
   "source": [
    "math.fabs( (np.random.random((4,8)) * 2 - 1)[random.randint(0,3)][random.randint(0,7)])"
   ]
  },
  {
   "cell_type": "code",
   "execution_count": 19,
   "metadata": {},
   "outputs": [
    {
     "data": {
      "text/plain": [
       "array([ 0.98820626, -0.86930485,  0.14914738,  0.76155828, -0.16582743,\n",
       "        0.34993165, -0.6820185 ,  0.11777062])"
      ]
     },
     "execution_count": 19,
     "metadata": {},
     "output_type": "execute_result"
    }
   ],
   "source": [
    "(np.random.random((4,8)) * 2 - 1)[0]"
   ]
  },
  {
   "cell_type": "code",
   "execution_count": 13,
   "metadata": {},
   "outputs": [
    {
     "data": {
      "text/plain": [
       "array([[ 0.25195975,  0.77872684, -0.03357339,  0.57221255, -0.81534801,\n",
       "        -0.03208066,  0.98429751, -0.26248232],\n",
       "       [ 0.18247188,  0.97298279, -0.83473888,  0.72678162, -0.03543089,\n",
       "        -0.14193778,  0.55806262,  0.2772941 ],\n",
       "       [ 0.03739685,  0.70176717,  0.8203702 , -0.95651449,  0.55863219,\n",
       "        -0.41884831, -0.11072026, -0.93751406],\n",
       "       [-0.76459569, -0.95666902, -0.40058811, -0.3408855 , -0.36703492,\n",
       "        -0.31808415,  0.30795048, -0.89566673]])"
      ]
     },
     "execution_count": 13,
     "metadata": {},
     "output_type": "execute_result"
    }
   ],
   "source": [
    "np.random.random((4,8)) * 2 - 1"
   ]
  },
  {
   "cell_type": "code",
   "execution_count": null,
   "metadata": {},
   "outputs": [],
   "source": []
  }
 ],
 "metadata": {
  "kernelspec": {
   "display_name": "Python 3",
   "language": "python",
   "name": "python3"
  },
  "language_info": {
   "codemirror_mode": {
    "name": "ipython",
    "version": 3
   },
   "file_extension": ".py",
   "mimetype": "text/x-python",
   "name": "python",
   "nbconvert_exporter": "python",
   "pygments_lexer": "ipython3",
   "version": "3.6.6"
  }
 },
 "nbformat": 4,
 "nbformat_minor": 2
}
